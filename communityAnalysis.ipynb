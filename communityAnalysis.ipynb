{
 "cells": [
  {
   "cell_type": "code",
   "execution_count": 353,
   "metadata": {
    "collapsed": true
   },
   "outputs": [],
   "source": [
    "import pandas as pd\n",
    "import statsmodels.formula.api as smf\n",
    "from collections import defaultdict"
   ]
  },
  {
   "cell_type": "code",
   "execution_count": 354,
   "metadata": {
    "collapsed": false
   },
   "outputs": [],
   "source": [
    "data = pd.read_csv(\"output/describeNetwork.csv\", dtype={'primary_naics': object})"
   ]
  },
  {
   "cell_type": "code",
   "execution_count": 355,
   "metadata": {
    "collapsed": false
   },
   "outputs": [],
   "source": [
    "naics = pd.read_csv(\"data/naics.csv\", dtype={'2012 NAICS US Code': object})"
   ]
  },
  {
   "cell_type": "code",
   "execution_count": 356,
   "metadata": {
    "collapsed": false,
    "scrolled": true
   },
   "outputs": [],
   "source": [
    "naics = naics.drop(naics.columns[[0,3,4]], axis=1)"
   ]
  },
  {
   "cell_type": "code",
   "execution_count": 357,
   "metadata": {
    "collapsed": false
   },
   "outputs": [],
   "source": [
    "naics.columns = [\"naics\", \"indName\"]"
   ]
  },
  {
   "cell_type": "code",
   "execution_count": 358,
   "metadata": {
    "collapsed": true
   },
   "outputs": [],
   "source": [
    "# data[\"naics2dig\"] = data['primary_naics'].str[:2]\n",
    "# data[\"naics3dig\"] = data['primary_naics'].str[:3]"
   ]
  },
  {
   "cell_type": "code",
   "execution_count": 359,
   "metadata": {
    "collapsed": false
   },
   "outputs": [],
   "source": [
    "# data = data.merge(naics, left_on=[\"naics2dig\"], right_on=\"naics\").merge(naics, left_on=[\"naics3dig\"], right_on=\"naics\", suffixes=(\"2\", \"3\"))\n",
    "# data = data.drop([\"naics2dig\", \"naics3dig\"], axis=1)"
   ]
  },
  {
   "cell_type": "code",
   "execution_count": 360,
   "metadata": {
    "collapsed": false
   },
   "outputs": [
    {
     "data": {
      "text/html": [
       "<div>\n",
       "<table border=\"1\" class=\"dataframe\">\n",
       "  <thead>\n",
       "    <tr style=\"text-align: right;\">\n",
       "      <th></th>\n",
       "      <th>naics</th>\n",
       "      <th>indName</th>\n",
       "    </tr>\n",
       "  </thead>\n",
       "  <tbody>\n",
       "    <tr>\n",
       "      <th>1</th>\n",
       "      <td>11</td>\n",
       "      <td>Agriculture, Forestry, Fishing and Hunting</td>\n",
       "    </tr>\n",
       "    <tr>\n",
       "      <th>132</th>\n",
       "      <td>21</td>\n",
       "      <td>Mining, Quarrying, and Oil and Gas Extraction</td>\n",
       "    </tr>\n",
       "    <tr>\n",
       "      <th>180</th>\n",
       "      <td>22</td>\n",
       "      <td>Utilities</td>\n",
       "    </tr>\n",
       "    <tr>\n",
       "      <th>205</th>\n",
       "      <td>23</td>\n",
       "      <td>Construction</td>\n",
       "    </tr>\n",
       "    <tr>\n",
       "      <th>930</th>\n",
       "      <td>42</td>\n",
       "      <td>Wholesale Trade</td>\n",
       "    </tr>\n",
       "    <tr>\n",
       "      <th>1402</th>\n",
       "      <td>51</td>\n",
       "      <td>Information</td>\n",
       "    </tr>\n",
       "    <tr>\n",
       "      <th>1480</th>\n",
       "      <td>52</td>\n",
       "      <td>Finance and Insurance</td>\n",
       "    </tr>\n",
       "    <tr>\n",
       "      <th>1569</th>\n",
       "      <td>53</td>\n",
       "      <td>Real Estate and Rental and Leasing</td>\n",
       "    </tr>\n",
       "    <tr>\n",
       "      <th>1624</th>\n",
       "      <td>54</td>\n",
       "      <td>Professional, Scientific, and Technical Services</td>\n",
       "    </tr>\n",
       "    <tr>\n",
       "      <th>1718</th>\n",
       "      <td>55</td>\n",
       "      <td>Management of Companies and Enterprises</td>\n",
       "    </tr>\n",
       "    <tr>\n",
       "      <th>1725</th>\n",
       "      <td>56</td>\n",
       "      <td>Administrative and Support and Waste Managemen...</td>\n",
       "    </tr>\n",
       "    <tr>\n",
       "      <th>1812</th>\n",
       "      <td>61</td>\n",
       "      <td>Educational Services</td>\n",
       "    </tr>\n",
       "    <tr>\n",
       "      <th>1850</th>\n",
       "      <td>62</td>\n",
       "      <td>Health Care and Social Assistance</td>\n",
       "    </tr>\n",
       "    <tr>\n",
       "      <th>1942</th>\n",
       "      <td>71</td>\n",
       "      <td>Arts, Entertainment, and Recreation</td>\n",
       "    </tr>\n",
       "    <tr>\n",
       "      <th>2003</th>\n",
       "      <td>72</td>\n",
       "      <td>Accommodation and Food Services</td>\n",
       "    </tr>\n",
       "    <tr>\n",
       "      <th>2037</th>\n",
       "      <td>81</td>\n",
       "      <td>Other Services (except Public Administration)</td>\n",
       "    </tr>\n",
       "    <tr>\n",
       "      <th>2135</th>\n",
       "      <td>92</td>\n",
       "      <td>Public Administration</td>\n",
       "    </tr>\n",
       "  </tbody>\n",
       "</table>\n",
       "</div>"
      ],
      "text/plain": [
       "     naics                                            indName\n",
       "1       11         Agriculture, Forestry, Fishing and Hunting\n",
       "132     21      Mining, Quarrying, and Oil and Gas Extraction\n",
       "180     22                                          Utilities\n",
       "205     23                                       Construction\n",
       "930     42                                    Wholesale Trade\n",
       "1402    51                                        Information\n",
       "1480    52                              Finance and Insurance\n",
       "1569    53                 Real Estate and Rental and Leasing\n",
       "1624    54   Professional, Scientific, and Technical Services\n",
       "1718    55            Management of Companies and Enterprises\n",
       "1725    56  Administrative and Support and Waste Managemen...\n",
       "1812    61                               Educational Services\n",
       "1850    62                  Health Care and Social Assistance\n",
       "1942    71                Arts, Entertainment, and Recreation\n",
       "2003    72                    Accommodation and Food Services\n",
       "2037    81      Other Services (except Public Administration)\n",
       "2135    92                              Public Administration"
      ]
     },
     "execution_count": 360,
     "metadata": {},
     "output_type": "execute_result"
    }
   ],
   "source": [
    "# this is why we couldn't use 2-digit naics codes - they don't all match up to the crosswalk\n",
    "naics[naics['naics'].str.len()==2]"
   ]
  },
  {
   "cell_type": "code",
   "execution_count": 361,
   "metadata": {
    "collapsed": true
   },
   "outputs": [],
   "source": [
    "data[\"naics2\"] = data['primary_naics'].str[:2]\n",
    "data[\"naics3\"] = data['primary_naics'].str[:3]"
   ]
  },
  {
   "cell_type": "code",
   "execution_count": 362,
   "metadata": {
    "collapsed": false
   },
   "outputs": [],
   "source": [
    "data = data.merge(naics, left_on=[\"naics3\"], right_on=\"naics\", how=\"left\")"
   ]
  },
  {
   "cell_type": "code",
   "execution_count": 363,
   "metadata": {
    "collapsed": false
   },
   "outputs": [],
   "source": [
    "data = data.drop(\"naics\", axis=1)"
   ]
  },
  {
   "cell_type": "code",
   "execution_count": 364,
   "metadata": {
    "collapsed": false
   },
   "outputs": [
    {
     "data": {
      "text/html": [
       "<div>\n",
       "<table border=\"1\" class=\"dataframe\">\n",
       "  <thead>\n",
       "    <tr style=\"text-align: right;\">\n",
       "      <th></th>\n",
       "      <th>Unnamed: 0</th>\n",
       "      <th>Facility</th>\n",
       "      <th>Degrees</th>\n",
       "      <th>Clustering Coefficient</th>\n",
       "      <th>Betweeness</th>\n",
       "      <th>Closeness</th>\n",
       "      <th>Eigenvector</th>\n",
       "      <th>primary_naics</th>\n",
       "      <th>parent_company_name</th>\n",
       "      <th>Community</th>\n",
       "      <th>naics2</th>\n",
       "      <th>naics3</th>\n",
       "      <th>indName</th>\n",
       "    </tr>\n",
       "  </thead>\n",
       "  <tbody>\n",
       "    <tr>\n",
       "      <th>0</th>\n",
       "      <td>0</td>\n",
       "      <td>IBM CORP</td>\n",
       "      <td>236</td>\n",
       "      <td>0.264443</td>\n",
       "      <td>0.060645</td>\n",
       "      <td>0.728713</td>\n",
       "      <td>0.056001</td>\n",
       "      <td>334111</td>\n",
       "      <td>IBM CORP</td>\n",
       "      <td>0</td>\n",
       "      <td>33</td>\n",
       "      <td>334</td>\n",
       "      <td>Computer and Electronic Product Manufacturing</td>\n",
       "    </tr>\n",
       "    <tr>\n",
       "      <th>1</th>\n",
       "      <td>1</td>\n",
       "      <td>IBM CORP</td>\n",
       "      <td>236</td>\n",
       "      <td>0.264443</td>\n",
       "      <td>0.060645</td>\n",
       "      <td>0.728713</td>\n",
       "      <td>0.056001</td>\n",
       "      <td>334413</td>\n",
       "      <td>IBM CORP</td>\n",
       "      <td>0</td>\n",
       "      <td>33</td>\n",
       "      <td>334</td>\n",
       "      <td>Computer and Electronic Product Manufacturing</td>\n",
       "    </tr>\n",
       "    <tr>\n",
       "      <th>2</th>\n",
       "      <td>2</td>\n",
       "      <td>EASTMAN KODAK CO EASTMAN BUSINESS PARK</td>\n",
       "      <td>228</td>\n",
       "      <td>0.284218</td>\n",
       "      <td>0.058787</td>\n",
       "      <td>0.717349</td>\n",
       "      <td>0.123391</td>\n",
       "      <td>325992</td>\n",
       "      <td>EASTMAN KODAK CO</td>\n",
       "      <td>0</td>\n",
       "      <td>32</td>\n",
       "      <td>325</td>\n",
       "      <td>Chemical Manufacturing</td>\n",
       "    </tr>\n",
       "    <tr>\n",
       "      <th>3</th>\n",
       "      <td>3</td>\n",
       "      <td>NORLITE LLC</td>\n",
       "      <td>225</td>\n",
       "      <td>0.243294</td>\n",
       "      <td>0.106510</td>\n",
       "      <td>0.720157</td>\n",
       "      <td>0.211257</td>\n",
       "      <td>327992</td>\n",
       "      <td>TRADEBE ENVIRONMENTAL SERVICES LLC</td>\n",
       "      <td>1</td>\n",
       "      <td>32</td>\n",
       "      <td>327</td>\n",
       "      <td>Nonmetallic Mineral Product Manufacturing</td>\n",
       "    </tr>\n",
       "    <tr>\n",
       "      <th>4</th>\n",
       "      <td>4</td>\n",
       "      <td>ALCOA INC</td>\n",
       "      <td>193</td>\n",
       "      <td>0.332038</td>\n",
       "      <td>0.051080</td>\n",
       "      <td>0.667877</td>\n",
       "      <td>0.054540</td>\n",
       "      <td>331313</td>\n",
       "      <td>ALCOA INC</td>\n",
       "      <td>4</td>\n",
       "      <td>33</td>\n",
       "      <td>331</td>\n",
       "      <td>Primary Metal Manufacturing</td>\n",
       "    </tr>\n",
       "  </tbody>\n",
       "</table>\n",
       "</div>"
      ],
      "text/plain": [
       "   Unnamed: 0                                Facility  Degrees  \\\n",
       "0           0                                IBM CORP      236   \n",
       "1           1                                IBM CORP      236   \n",
       "2           2  EASTMAN KODAK CO EASTMAN BUSINESS PARK      228   \n",
       "3           3                             NORLITE LLC      225   \n",
       "4           4                               ALCOA INC      193   \n",
       "\n",
       "   Clustering Coefficient  Betweeness  Closeness  Eigenvector primary_naics  \\\n",
       "0                0.264443    0.060645   0.728713     0.056001        334111   \n",
       "1                0.264443    0.060645   0.728713     0.056001        334413   \n",
       "2                0.284218    0.058787   0.717349     0.123391        325992   \n",
       "3                0.243294    0.106510   0.720157     0.211257        327992   \n",
       "4                0.332038    0.051080   0.667877     0.054540        331313   \n",
       "\n",
       "                  parent_company_name  Community naics2 naics3  \\\n",
       "0                            IBM CORP          0     33    334   \n",
       "1                            IBM CORP          0     33    334   \n",
       "2                    EASTMAN KODAK CO          0     32    325   \n",
       "3  TRADEBE ENVIRONMENTAL SERVICES LLC          1     32    327   \n",
       "4                           ALCOA INC          4     33    331   \n",
       "\n",
       "                                         indName  \n",
       "0  Computer and Electronic Product Manufacturing  \n",
       "1  Computer and Electronic Product Manufacturing  \n",
       "2                         Chemical Manufacturing  \n",
       "3      Nonmetallic Mineral Product Manufacturing  \n",
       "4                    Primary Metal Manufacturing  "
      ]
     },
     "execution_count": 364,
     "metadata": {},
     "output_type": "execute_result"
    }
   ],
   "source": [
    "data.head()"
   ]
  },
  {
   "cell_type": "code",
   "execution_count": 365,
   "metadata": {
    "collapsed": true
   },
   "outputs": [],
   "source": [
    "data.to_csv('output/facilitiesWithNaics.csv')"
   ]
  },
  {
   "cell_type": "code",
   "execution_count": 366,
   "metadata": {
    "collapsed": true
   },
   "outputs": [],
   "source": [
    "communities = defaultdict(dict)"
   ]
  },
  {
   "cell_type": "code",
   "execution_count": 371,
   "metadata": {
    "collapsed": false
   },
   "outputs": [
    {
     "name": "stderr",
     "output_type": "stream",
     "text": [
      "/Users/afair/anaconda/lib/python2.7/site-packages/IPython/kernel/__main__.py:4: FutureWarning: order is deprecated, use sort_values(...)\n"
     ]
    }
   ],
   "source": [
    "for i in data['Community'].unique():\n",
    "    commData = data[data['Community']==i]\n",
    "    communities[i]['ungroupedData'] = commData\n",
    "    industries = commData.groupby(['naics3', 'indName']).size().order(ascending=False)\n",
    "    industries = industries.reset_index()\n",
    "    industries = industries.rename(columns = {0:'count'})\n",
    "    industries['percent'] = (industries['count'] / len(commData))*100\n",
    "    communities[i]['groupedData'] = industries"
   ]
  },
  {
   "cell_type": "code",
   "execution_count": 376,
   "metadata": {
    "collapsed": true
   },
   "outputs": [],
   "source": [
    "for i in communities:\n",
    "    communities[i]['groupedData'].to_csv('output/community{}.csv'.format(i))"
   ]
  },
  {
   "cell_type": "code",
   "execution_count": null,
   "metadata": {
    "collapsed": true
   },
   "outputs": [],
   "source": []
  }
 ],
 "metadata": {
  "kernelspec": {
   "display_name": "Python 2",
   "language": "python",
   "name": "python2"
  },
  "language_info": {
   "codemirror_mode": {
    "name": "ipython",
    "version": 2
   },
   "file_extension": ".py",
   "mimetype": "text/x-python",
   "name": "python",
   "nbconvert_exporter": "python",
   "pygments_lexer": "ipython2",
   "version": "2.7.11"
  }
 },
 "nbformat": 4,
 "nbformat_minor": 0
}
