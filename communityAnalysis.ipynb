{
 "cells": [
  {
   "cell_type": "code",
   "execution_count": 494,
   "metadata": {
    "collapsed": true
   },
   "outputs": [],
   "source": [
    "import pandas as pd\n",
    "from collections import defaultdict"
   ]
  },
  {
   "cell_type": "code",
   "execution_count": 495,
   "metadata": {
    "collapsed": false
   },
   "outputs": [],
   "source": [
    "data = pd.read_csv(\"output/describeNetwork.csv\", dtype={'primary_naics': object})\n",
    "naics = pd.read_csv(\"data/naics.csv\", dtype={'2012 NAICS US Code': object})"
   ]
  },
  {
   "cell_type": "code",
   "execution_count": 496,
   "metadata": {
    "collapsed": false
   },
   "outputs": [],
   "source": [
    "naics = naics.drop(naics.columns[[0,3,4]], axis=1)\n",
    "naics.columns = [\"naics\", \"indName\"]"
   ]
  },
  {
   "cell_type": "code",
   "execution_count": 497,
   "metadata": {
    "collapsed": false,
    "scrolled": true
   },
   "outputs": [
    {
     "data": {
      "text/html": [
       "<div>\n",
       "<table border=\"1\" class=\"dataframe\">\n",
       "  <thead>\n",
       "    <tr style=\"text-align: right;\">\n",
       "      <th></th>\n",
       "      <th>naics</th>\n",
       "      <th>indName</th>\n",
       "    </tr>\n",
       "  </thead>\n",
       "  <tbody>\n",
       "    <tr>\n",
       "      <th>1</th>\n",
       "      <td>11</td>\n",
       "      <td>Agriculture, Forestry, Fishing and Hunting</td>\n",
       "    </tr>\n",
       "    <tr>\n",
       "      <th>132</th>\n",
       "      <td>21</td>\n",
       "      <td>Mining, Quarrying, and Oil and Gas Extraction</td>\n",
       "    </tr>\n",
       "    <tr>\n",
       "      <th>180</th>\n",
       "      <td>22</td>\n",
       "      <td>Utilities</td>\n",
       "    </tr>\n",
       "    <tr>\n",
       "      <th>205</th>\n",
       "      <td>23</td>\n",
       "      <td>Construction</td>\n",
       "    </tr>\n",
       "    <tr>\n",
       "      <th>930</th>\n",
       "      <td>42</td>\n",
       "      <td>Wholesale Trade</td>\n",
       "    </tr>\n",
       "    <tr>\n",
       "      <th>1402</th>\n",
       "      <td>51</td>\n",
       "      <td>Information</td>\n",
       "    </tr>\n",
       "    <tr>\n",
       "      <th>1480</th>\n",
       "      <td>52</td>\n",
       "      <td>Finance and Insurance</td>\n",
       "    </tr>\n",
       "    <tr>\n",
       "      <th>1569</th>\n",
       "      <td>53</td>\n",
       "      <td>Real Estate and Rental and Leasing</td>\n",
       "    </tr>\n",
       "    <tr>\n",
       "      <th>1624</th>\n",
       "      <td>54</td>\n",
       "      <td>Professional, Scientific, and Technical Services</td>\n",
       "    </tr>\n",
       "    <tr>\n",
       "      <th>1718</th>\n",
       "      <td>55</td>\n",
       "      <td>Management of Companies and Enterprises</td>\n",
       "    </tr>\n",
       "    <tr>\n",
       "      <th>1725</th>\n",
       "      <td>56</td>\n",
       "      <td>Administrative and Support and Waste Managemen...</td>\n",
       "    </tr>\n",
       "    <tr>\n",
       "      <th>1812</th>\n",
       "      <td>61</td>\n",
       "      <td>Educational Services</td>\n",
       "    </tr>\n",
       "    <tr>\n",
       "      <th>1850</th>\n",
       "      <td>62</td>\n",
       "      <td>Health Care and Social Assistance</td>\n",
       "    </tr>\n",
       "    <tr>\n",
       "      <th>1942</th>\n",
       "      <td>71</td>\n",
       "      <td>Arts, Entertainment, and Recreation</td>\n",
       "    </tr>\n",
       "    <tr>\n",
       "      <th>2003</th>\n",
       "      <td>72</td>\n",
       "      <td>Accommodation and Food Services</td>\n",
       "    </tr>\n",
       "    <tr>\n",
       "      <th>2037</th>\n",
       "      <td>81</td>\n",
       "      <td>Other Services (except Public Administration)</td>\n",
       "    </tr>\n",
       "    <tr>\n",
       "      <th>2135</th>\n",
       "      <td>92</td>\n",
       "      <td>Public Administration</td>\n",
       "    </tr>\n",
       "  </tbody>\n",
       "</table>\n",
       "</div>"
      ],
      "text/plain": [
       "     naics                                            indName\n",
       "1       11         Agriculture, Forestry, Fishing and Hunting\n",
       "132     21      Mining, Quarrying, and Oil and Gas Extraction\n",
       "180     22                                          Utilities\n",
       "205     23                                       Construction\n",
       "930     42                                    Wholesale Trade\n",
       "1402    51                                        Information\n",
       "1480    52                              Finance and Insurance\n",
       "1569    53                 Real Estate and Rental and Leasing\n",
       "1624    54   Professional, Scientific, and Technical Services\n",
       "1718    55            Management of Companies and Enterprises\n",
       "1725    56  Administrative and Support and Waste Managemen...\n",
       "1812    61                               Educational Services\n",
       "1850    62                  Health Care and Social Assistance\n",
       "1942    71                Arts, Entertainment, and Recreation\n",
       "2003    72                    Accommodation and Food Services\n",
       "2037    81      Other Services (except Public Administration)\n",
       "2135    92                              Public Administration"
      ]
     },
     "execution_count": 497,
     "metadata": {},
     "output_type": "execute_result"
    }
   ],
   "source": [
    "# this is why we couldn't use 2-digit naics codes - they don't all match up to the crosswalk\n",
    "# these are all the 2-digit codes from the naics xwalk - notice many 2-digit #s are missing\n",
    "naics[naics['naics'].str.len()==2]"
   ]
  },
  {
   "cell_type": "code",
   "execution_count": 498,
   "metadata": {
    "collapsed": true
   },
   "outputs": [],
   "source": [
    "data[\"naics3\"] = data['primary_naics'].str[:3]"
   ]
  },
  {
   "cell_type": "code",
   "execution_count": 499,
   "metadata": {
    "collapsed": false
   },
   "outputs": [],
   "source": [
    "data = data.merge(naics, left_on=[\"naics3\"], right_on=\"naics\", how=\"left\")\n",
    "data = data.drop(\"naics\", axis=1)"
   ]
  },
  {
   "cell_type": "code",
   "execution_count": 500,
   "metadata": {
    "collapsed": true
   },
   "outputs": [],
   "source": [
    "data.to_csv('output/facilitiesWithNaics.csv')"
   ]
  },
  {
   "cell_type": "code",
   "execution_count": 501,
   "metadata": {
    "collapsed": false
   },
   "outputs": [
    {
     "name": "stderr",
     "output_type": "stream",
     "text": [
      "/Users/afair/anaconda/lib/python2.7/site-packages/IPython/kernel/__main__.py:7: FutureWarning: order is deprecated, use sort_values(...)\n"
     ]
    }
   ],
   "source": [
    "# this makes dict of DFs, which are written to indivual .csv files\n",
    "communities = defaultdict(dict)\n",
    "\n",
    "for i in data['Community'].unique():\n",
    "    commData = data[data['Community']==i]\n",
    "    communities[i]['ungroupedData'] = commData\n",
    "    industries = commData.groupby(['naics3', 'indName']).size().order(ascending=False)\n",
    "    industries = industries.reset_index()\n",
    "    industries = industries.rename(columns = {0:'countPerComm'})\n",
    "    industries['percentPerComm'] = (industries['countPerComm'] / len(commData))*100\n",
    "    communities[i]['groupedData'] = industries"
   ]
  },
  {
   "cell_type": "code",
   "execution_count": 502,
   "metadata": {
    "collapsed": true
   },
   "outputs": [],
   "source": [
    "for i in communities:\n",
    "    communities[i]['groupedData'].to_csv('output/community{}.csv'.format(i))"
   ]
  },
  {
   "cell_type": "code",
   "execution_count": 503,
   "metadata": {
    "collapsed": false
   },
   "outputs": [
    {
     "name": "stderr",
     "output_type": "stream",
     "text": [
      "/Users/afair/anaconda/lib/python2.7/site-packages/IPython/kernel/__main__.py:6: FutureWarning: order is deprecated, use sort_values(...)\n"
     ]
    }
   ],
   "source": [
    "# this does pretty much same as above, except writes to one master DF and .csv rather than separate files\n",
    "commDict = {}\n",
    "\n",
    "for i in data['Community'].unique():\n",
    "    commData = data[data['Community']==i]\n",
    "    industries = commData.groupby(['naics3', 'indName']).size().order(ascending=False)\n",
    "    industries = industries.reset_index()\n",
    "    industries = industries.rename(columns = {0:'countPerComm'})\n",
    "    industries['percentPerComm'] = (industries['countPerComm'] / len(commData))*100\n",
    "    industries['community'] = i\n",
    "    commDict[i] = industries"
   ]
  },
  {
   "cell_type": "code",
   "execution_count": 504,
   "metadata": {
    "collapsed": false,
    "scrolled": true
   },
   "outputs": [],
   "source": [
    "commDF = pd.concat([commDict[f] for f in commDict])\n",
    "cols = commDF.columns.tolist()\n",
    "cols = cols[-1:] + cols[:-1]\n",
    "commDF = commDF[cols]\n",
    "commDF = commDF.reset_index(drop=True)"
   ]
  },
  {
   "cell_type": "code",
   "execution_count": 505,
   "metadata": {
    "collapsed": true
   },
   "outputs": [],
   "source": [
    "commDF.to_csv('output/allCommunities.csv')"
   ]
  },
  {
   "cell_type": "code",
   "execution_count": 506,
   "metadata": {
    "collapsed": false
   },
   "outputs": [
    {
     "data": {
      "text/html": [
       "<div>\n",
       "<table border=\"1\" class=\"dataframe\">\n",
       "  <thead>\n",
       "    <tr style=\"text-align: right;\">\n",
       "      <th></th>\n",
       "      <th>community</th>\n",
       "      <th>naics3</th>\n",
       "      <th>indName</th>\n",
       "      <th>countPerComm</th>\n",
       "      <th>percentPerComm</th>\n",
       "    </tr>\n",
       "  </thead>\n",
       "  <tbody>\n",
       "    <tr>\n",
       "      <th>0</th>\n",
       "      <td>0</td>\n",
       "      <td>325</td>\n",
       "      <td>Chemical Manufacturing</td>\n",
       "      <td>30</td>\n",
       "      <td>21.126761</td>\n",
       "    </tr>\n",
       "    <tr>\n",
       "      <th>1</th>\n",
       "      <td>0</td>\n",
       "      <td>332</td>\n",
       "      <td>Fabricated Metal Product Manufacturing</td>\n",
       "      <td>21</td>\n",
       "      <td>14.788732</td>\n",
       "    </tr>\n",
       "    <tr>\n",
       "      <th>2</th>\n",
       "      <td>0</td>\n",
       "      <td>334</td>\n",
       "      <td>Computer and Electronic Product Manufacturing</td>\n",
       "      <td>14</td>\n",
       "      <td>9.859155</td>\n",
       "    </tr>\n",
       "    <tr>\n",
       "      <th>22</th>\n",
       "      <td>1</td>\n",
       "      <td>424</td>\n",
       "      <td>Merchant Wholesalers, Nondurable Goods</td>\n",
       "      <td>28</td>\n",
       "      <td>35.000000</td>\n",
       "    </tr>\n",
       "    <tr>\n",
       "      <th>23</th>\n",
       "      <td>1</td>\n",
       "      <td>325</td>\n",
       "      <td>Chemical Manufacturing</td>\n",
       "      <td>17</td>\n",
       "      <td>21.250000</td>\n",
       "    </tr>\n",
       "    <tr>\n",
       "      <th>24</th>\n",
       "      <td>1</td>\n",
       "      <td>326</td>\n",
       "      <td>Plastics and Rubber Products Manufacturing</td>\n",
       "      <td>6</td>\n",
       "      <td>7.500000</td>\n",
       "    </tr>\n",
       "    <tr>\n",
       "      <th>40</th>\n",
       "      <td>2</td>\n",
       "      <td>326</td>\n",
       "      <td>Plastics and Rubber Products Manufacturing</td>\n",
       "      <td>6</td>\n",
       "      <td>75.000000</td>\n",
       "    </tr>\n",
       "    <tr>\n",
       "      <th>41</th>\n",
       "      <td>2</td>\n",
       "      <td>336</td>\n",
       "      <td>Transportation Equipment Manufacturing</td>\n",
       "      <td>1</td>\n",
       "      <td>12.500000</td>\n",
       "    </tr>\n",
       "    <tr>\n",
       "      <th>42</th>\n",
       "      <td>2</td>\n",
       "      <td>325</td>\n",
       "      <td>Chemical Manufacturing</td>\n",
       "      <td>1</td>\n",
       "      <td>12.500000</td>\n",
       "    </tr>\n",
       "    <tr>\n",
       "      <th>43</th>\n",
       "      <td>3</td>\n",
       "      <td>324</td>\n",
       "      <td>Petroleum and Coal Products Manufacturing</td>\n",
       "      <td>13</td>\n",
       "      <td>27.659574</td>\n",
       "    </tr>\n",
       "    <tr>\n",
       "      <th>44</th>\n",
       "      <td>3</td>\n",
       "      <td>221</td>\n",
       "      <td>Utilities</td>\n",
       "      <td>9</td>\n",
       "      <td>19.148936</td>\n",
       "    </tr>\n",
       "    <tr>\n",
       "      <th>45</th>\n",
       "      <td>3</td>\n",
       "      <td>424</td>\n",
       "      <td>Merchant Wholesalers, Nondurable Goods</td>\n",
       "      <td>8</td>\n",
       "      <td>17.021277</td>\n",
       "    </tr>\n",
       "    <tr>\n",
       "      <th>55</th>\n",
       "      <td>4</td>\n",
       "      <td>331</td>\n",
       "      <td>Primary Metal Manufacturing</td>\n",
       "      <td>19</td>\n",
       "      <td>20.000000</td>\n",
       "    </tr>\n",
       "    <tr>\n",
       "      <th>56</th>\n",
       "      <td>4</td>\n",
       "      <td>332</td>\n",
       "      <td>Fabricated Metal Product Manufacturing</td>\n",
       "      <td>17</td>\n",
       "      <td>17.894737</td>\n",
       "    </tr>\n",
       "    <tr>\n",
       "      <th>57</th>\n",
       "      <td>4</td>\n",
       "      <td>334</td>\n",
       "      <td>Computer and Electronic Product Manufacturing</td>\n",
       "      <td>16</td>\n",
       "      <td>16.842105</td>\n",
       "    </tr>\n",
       "    <tr>\n",
       "      <th>69</th>\n",
       "      <td>5</td>\n",
       "      <td>332</td>\n",
       "      <td>Fabricated Metal Product Manufacturing</td>\n",
       "      <td>3</td>\n",
       "      <td>75.000000</td>\n",
       "    </tr>\n",
       "    <tr>\n",
       "      <th>70</th>\n",
       "      <td>5</td>\n",
       "      <td>326</td>\n",
       "      <td>Plastics and Rubber Products Manufacturing</td>\n",
       "      <td>1</td>\n",
       "      <td>25.000000</td>\n",
       "    </tr>\n",
       "  </tbody>\n",
       "</table>\n",
       "</div>"
      ],
      "text/plain": [
       "    community naics3                                        indName  \\\n",
       "0           0    325                         Chemical Manufacturing   \n",
       "1           0    332         Fabricated Metal Product Manufacturing   \n",
       "2           0    334  Computer and Electronic Product Manufacturing   \n",
       "22          1    424        Merchant Wholesalers, Nondurable Goods    \n",
       "23          1    325                         Chemical Manufacturing   \n",
       "24          1    326     Plastics and Rubber Products Manufacturing   \n",
       "40          2    326     Plastics and Rubber Products Manufacturing   \n",
       "41          2    336         Transportation Equipment Manufacturing   \n",
       "42          2    325                         Chemical Manufacturing   \n",
       "43          3    324      Petroleum and Coal Products Manufacturing   \n",
       "44          3    221                                     Utilities    \n",
       "45          3    424        Merchant Wholesalers, Nondurable Goods    \n",
       "55          4    331                    Primary Metal Manufacturing   \n",
       "56          4    332         Fabricated Metal Product Manufacturing   \n",
       "57          4    334  Computer and Electronic Product Manufacturing   \n",
       "69          5    332         Fabricated Metal Product Manufacturing   \n",
       "70          5    326     Plastics and Rubber Products Manufacturing   \n",
       "\n",
       "    countPerComm  percentPerComm  \n",
       "0             30       21.126761  \n",
       "1             21       14.788732  \n",
       "2             14        9.859155  \n",
       "22            28       35.000000  \n",
       "23            17       21.250000  \n",
       "24             6        7.500000  \n",
       "40             6       75.000000  \n",
       "41             1       12.500000  \n",
       "42             1       12.500000  \n",
       "43            13       27.659574  \n",
       "44             9       19.148936  \n",
       "45             8       17.021277  \n",
       "55            19       20.000000  \n",
       "56            17       17.894737  \n",
       "57            16       16.842105  \n",
       "69             3       75.000000  \n",
       "70             1       25.000000  "
      ]
     },
     "execution_count": 506,
     "metadata": {},
     "output_type": "execute_result"
    }
   ],
   "source": [
    "commDF.groupby('community').head(3)"
   ]
  },
  {
   "cell_type": "code",
   "execution_count": 507,
   "metadata": {
    "collapsed": false
   },
   "outputs": [
    {
     "data": {
      "text/html": [
       "<div>\n",
       "<table border=\"1\" class=\"dataframe\">\n",
       "  <thead>\n",
       "    <tr style=\"text-align: right;\">\n",
       "      <th></th>\n",
       "      <th>Facility</th>\n",
       "      <th>Degrees</th>\n",
       "      <th>Clustering Coefficient</th>\n",
       "      <th>parent_company_name</th>\n",
       "      <th>Community</th>\n",
       "      <th>naics3</th>\n",
       "      <th>indName</th>\n",
       "    </tr>\n",
       "  </thead>\n",
       "  <tbody>\n",
       "    <tr>\n",
       "      <th>354</th>\n",
       "      <td>FENNER PRECISION</td>\n",
       "      <td>9</td>\n",
       "      <td>0.583333</td>\n",
       "      <td>NaN</td>\n",
       "      <td>5</td>\n",
       "      <td>326</td>\n",
       "      <td>Plastics and Rubber Products Manufacturing</td>\n",
       "    </tr>\n",
       "    <tr>\n",
       "      <th>359</th>\n",
       "      <td>UTICA CUTLERY CO</td>\n",
       "      <td>5</td>\n",
       "      <td>1.000000</td>\n",
       "      <td>NaN</td>\n",
       "      <td>5</td>\n",
       "      <td>332</td>\n",
       "      <td>Fabricated Metal Product Manufacturing</td>\n",
       "    </tr>\n",
       "    <tr>\n",
       "      <th>360</th>\n",
       "      <td>API HEAT TRANSFER INC</td>\n",
       "      <td>5</td>\n",
       "      <td>1.000000</td>\n",
       "      <td>API HEAT TRANSFER INC</td>\n",
       "      <td>5</td>\n",
       "      <td>332</td>\n",
       "      <td>Fabricated Metal Product Manufacturing</td>\n",
       "    </tr>\n",
       "    <tr>\n",
       "      <th>361</th>\n",
       "      <td>GASSER &amp; SONS INC</td>\n",
       "      <td>5</td>\n",
       "      <td>1.000000</td>\n",
       "      <td>NaN</td>\n",
       "      <td>5</td>\n",
       "      <td>332</td>\n",
       "      <td>Fabricated Metal Product Manufacturing</td>\n",
       "    </tr>\n",
       "  </tbody>\n",
       "</table>\n",
       "</div>"
      ],
      "text/plain": [
       "                  Facility  Degrees  Clustering Coefficient  \\\n",
       "354       FENNER PRECISION        9                0.583333   \n",
       "359       UTICA CUTLERY CO        5                1.000000   \n",
       "360  API HEAT TRANSFER INC        5                1.000000   \n",
       "361      GASSER & SONS INC        5                1.000000   \n",
       "\n",
       "       parent_company_name  Community naics3  \\\n",
       "354                    NaN          5    326   \n",
       "359                    NaN          5    332   \n",
       "360  API HEAT TRANSFER INC          5    332   \n",
       "361                    NaN          5    332   \n",
       "\n",
       "                                        indName  \n",
       "354  Plastics and Rubber Products Manufacturing  \n",
       "359      Fabricated Metal Product Manufacturing  \n",
       "360      Fabricated Metal Product Manufacturing  \n",
       "361      Fabricated Metal Product Manufacturing  "
      ]
     },
     "execution_count": 507,
     "metadata": {},
     "output_type": "execute_result"
    }
   ],
   "source": [
    "# change commOfInterest to easily explore full data for community you want to look at\n",
    "commOfInterest = 5\n",
    "colsToDrop = ['Unnamed: 0','primary_naics', 'Betweeness', 'Closeness', 'Eigenvector']\n",
    "data[data['Community']==commOfInterest].drop(colsToDrop, axis=1)"
   ]
  },
  {
   "cell_type": "code",
   "execution_count": null,
   "metadata": {
    "collapsed": true
   },
   "outputs": [],
   "source": []
  }
 ],
 "metadata": {
  "kernelspec": {
   "display_name": "Python 2",
   "language": "python",
   "name": "python2"
  },
  "language_info": {
   "codemirror_mode": {
    "name": "ipython",
    "version": 2
   },
   "file_extension": ".py",
   "mimetype": "text/x-python",
   "name": "python",
   "nbconvert_exporter": "python",
   "pygments_lexer": "ipython2",
   "version": "2.7.11"
  }
 },
 "nbformat": 4,
 "nbformat_minor": 0
}
