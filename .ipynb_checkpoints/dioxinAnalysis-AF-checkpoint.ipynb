{
 "cells": [
  {
   "cell_type": "code",
   "execution_count": 9,
   "metadata": {
    "collapsed": false
   },
   "outputs": [
    {
     "name": "stdout",
     "output_type": "stream",
     "text": [
      "Populating the interactive namespace from numpy and matplotlib\n"
     ]
    }
   ],
   "source": [
    "import pandas as pd\n",
    "import matplotlib.pyplot as plt\n",
    "import seaborn as sns\n",
    "%pylab inline"
   ]
  },
  {
   "cell_type": "code",
   "execution_count": 10,
   "metadata": {
    "collapsed": true
   },
   "outputs": [],
   "source": [
    "allFacilities = pd.read_csv(\"output/describeNetwork.csv\", dtype={'primary_naics': object})"
   ]
  },
  {
   "cell_type": "code",
   "execution_count": 11,
   "metadata": {
    "collapsed": false
   },
   "outputs": [
    {
     "data": {
      "text/plain": [
       "20"
      ]
     },
     "execution_count": 11,
     "metadata": {},
     "output_type": "execute_result"
    }
   ],
   "source": [
    "# Dioxin reporters from 2013 TRI \n",
    "tri2013 = pd.read_csv('data/toxic-release-inventory.ny.2013.geoid.csv')\n",
    "dioxins_2013 = tri2013[tri2013['chemical']=='DIOXIN AND DIOXIN-LIKE COMPOUNDS']\n",
    "len(dioxins_2013) # Number of dioxin reporting facilities"
   ]
  },
  {
   "cell_type": "code",
   "execution_count": 12,
   "metadata": {
    "collapsed": false,
    "scrolled": true
   },
   "outputs": [
    {
     "data": {
      "text/html": [
       "<div>\n",
       "<table border=\"1\" class=\"dataframe\">\n",
       "  <thead>\n",
       "    <tr style=\"text-align: right;\">\n",
       "      <th></th>\n",
       "      <th>tri_facility_id</th>\n",
       "      <th>facility_name</th>\n",
       "      <th>primary_naics_x</th>\n",
       "      <th>n_5_2_stack_air</th>\n",
       "      <th>n_5_1_fugitive_air</th>\n",
       "      <th>Degrees</th>\n",
       "      <th>Clustering Coefficient</th>\n",
       "      <th>parent_company_name</th>\n",
       "      <th>Chemicals</th>\n",
       "      <th>Community</th>\n",
       "    </tr>\n",
       "  </thead>\n",
       "  <tbody>\n",
       "    <tr>\n",
       "      <th>0</th>\n",
       "      <td>11768NRTHPWATER</td>\n",
       "      <td>NATIONAL GRID  NORTHPORT POWER STATION</td>\n",
       "      <td>221112</td>\n",
       "      <td>0.184006</td>\n",
       "      <td>0</td>\n",
       "      <td>81</td>\n",
       "      <td>0.810494</td>\n",
       "      <td>NATIONAL GRID USA</td>\n",
       "      <td>['BENZO(G,H,I)PERYLENE', 'DIOXIN AND DIOXIN-LI...</td>\n",
       "      <td>3</td>\n",
       "    </tr>\n",
       "    <tr>\n",
       "      <th>1</th>\n",
       "      <td>12883NTRNTSHORE</td>\n",
       "      <td>INTERNATIONAL PAPER</td>\n",
       "      <td>322121</td>\n",
       "      <td>1.076389</td>\n",
       "      <td>0</td>\n",
       "      <td>178</td>\n",
       "      <td>0.336380</td>\n",
       "      <td>INTERNATIONAL PAPER CO</td>\n",
       "      <td>['ACETALDEHYDE', 'AMMONIA', 'BENZO(G,H,I)PERYL...</td>\n",
       "      <td>0</td>\n",
       "    </tr>\n",
       "    <tr>\n",
       "      <th>2</th>\n",
       "      <td>12550RSTNG992RA</td>\n",
       "      <td>CCI ROSETON LLC</td>\n",
       "      <td>221112</td>\n",
       "      <td>0.020021</td>\n",
       "      <td>0</td>\n",
       "      <td>49</td>\n",
       "      <td>0.666667</td>\n",
       "      <td>CASTLETON COMMODITIES INTERNATIONAL LLC</td>\n",
       "      <td>['DIOXIN AND DIOXIN-LIKE COMPOUNDS', 'NAPHTHAL...</td>\n",
       "      <td>1</td>\n",
       "    </tr>\n",
       "  </tbody>\n",
       "</table>\n",
       "</div>"
      ],
      "text/plain": [
       "   tri_facility_id                           facility_name  primary_naics_x  \\\n",
       "0  11768NRTHPWATER  NATIONAL GRID  NORTHPORT POWER STATION           221112   \n",
       "1  12883NTRNTSHORE                     INTERNATIONAL PAPER           322121   \n",
       "2  12550RSTNG992RA                         CCI ROSETON LLC           221112   \n",
       "\n",
       "   n_5_2_stack_air  n_5_1_fugitive_air  Degrees  Clustering Coefficient  \\\n",
       "0         0.184006                   0       81                0.810494   \n",
       "1         1.076389                   0      178                0.336380   \n",
       "2         0.020021                   0       49                0.666667   \n",
       "\n",
       "                       parent_company_name  \\\n",
       "0                        NATIONAL GRID USA   \n",
       "1                   INTERNATIONAL PAPER CO   \n",
       "2  CASTLETON COMMODITIES INTERNATIONAL LLC   \n",
       "\n",
       "                                           Chemicals  Community  \n",
       "0  ['BENZO(G,H,I)PERYLENE', 'DIOXIN AND DIOXIN-LI...          3  \n",
       "1  ['ACETALDEHYDE', 'AMMONIA', 'BENZO(G,H,I)PERYL...          0  \n",
       "2  ['DIOXIN AND DIOXIN-LIKE COMPOUNDS', 'NAPHTHAL...          1  "
      ]
     },
     "execution_count": 12,
     "metadata": {},
     "output_type": "execute_result"
    }
   ],
   "source": [
    "# Reporting dioxin in each community\n",
    "\n",
    "dioxin_trim = dioxins_2013[['tri_facility_id','facility_name','primary_naics','n_5_2_stack_air','n_5_1_fugitive_air']]\n",
    "dioxinMerge = dioxin_trim.merge(allFacilities, on='tri_facility_id')\n",
    "dioxinMerge = dioxinMerge.drop(['Unnamed: 0', 'Facility','Betweeness','Closeness','Eigenvector','primary_naics_y'], axis=1)\n",
    "dioxinMerge.head(3)"
   ]
  },
  {
   "cell_type": "code",
   "execution_count": 13,
   "metadata": {
    "collapsed": false
   },
   "outputs": [
    {
     "data": {
      "text/plain": [
       "<matplotlib.axes._subplots.AxesSubplot at 0x108c1b0d0>"
      ]
     },
     "execution_count": 13,
     "metadata": {},
     "output_type": "execute_result"
    },
    {
     "data": {
      "image/png": "[encoded data removed]",
      "text/plain": [
       "<matplotlib.figure.Figure at 0x108c1b710>"
      ]
     },
     "metadata": {},
     "output_type": "display_data"
    }
   ],
   "source": [
    "dioxinMerge['Community'].hist(bins=[0,1,2,3,4,5])"
   ]
  },
  {
   "cell_type": "code",
   "execution_count": 14,
   "metadata": {
    "collapsed": false,
    "scrolled": true
   },
   "outputs": [
    {
     "data": {
      "text/html": [
       "<div>\n",
       "<table border=\"1\" class=\"dataframe\">\n",
       "  <thead>\n",
       "    <tr style=\"text-align: right;\">\n",
       "      <th></th>\n",
       "      <th>tri_facility_id</th>\n",
       "      <th>facility_name</th>\n",
       "      <th>primary_naics_x</th>\n",
       "      <th>n_5_2_stack_air</th>\n",
       "      <th>n_5_1_fugitive_air</th>\n",
       "      <th>Degrees</th>\n",
       "      <th>Clustering Coefficient</th>\n",
       "      <th>parent_company_name</th>\n",
       "      <th>Chemicals</th>\n",
       "      <th>Community</th>\n",
       "    </tr>\n",
       "  </thead>\n",
       "  <tbody>\n",
       "    <tr>\n",
       "      <th>11</th>\n",
       "      <td>13148SCPTR11LAM</td>\n",
       "      <td>SCEPTER NEW YORK INC</td>\n",
       "      <td>331314</td>\n",
       "      <td>0.379998</td>\n",
       "      <td>0.00000</td>\n",
       "      <td>148</td>\n",
       "      <td>0.366612</td>\n",
       "      <td>SCEPTER INC</td>\n",
       "      <td>['AMMONIA', 'COPPER', 'DIOXIN AND DIOXIN-LIKE ...</td>\n",
       "      <td>4</td>\n",
       "    </tr>\n",
       "    <tr>\n",
       "      <th>16</th>\n",
       "      <td>13662LMNMCPARKA</td>\n",
       "      <td>ALCOA INC</td>\n",
       "      <td>331313</td>\n",
       "      <td>0.940007</td>\n",
       "      <td>0.00000</td>\n",
       "      <td>193</td>\n",
       "      <td>0.332038</td>\n",
       "      <td>ALCOA INC</td>\n",
       "      <td>['BENZO(G,H,I)PERYLENE', 'CARBONYL SULFIDE', '...</td>\n",
       "      <td>4</td>\n",
       "    </tr>\n",
       "    <tr>\n",
       "      <th>17</th>\n",
       "      <td>13126LCNRLLAKER</td>\n",
       "      <td>NOVELIS CORP</td>\n",
       "      <td>331315</td>\n",
       "      <td>1.749988</td>\n",
       "      <td>1.89999</td>\n",
       "      <td>133</td>\n",
       "      <td>0.400889</td>\n",
       "      <td>NOVELIS CORP</td>\n",
       "      <td>['ALUMINUM (FUME OR DUST)', 'CHLORINE', 'CHROM...</td>\n",
       "      <td>4</td>\n",
       "    </tr>\n",
       "    <tr>\n",
       "      <th>18</th>\n",
       "      <td>14207MRCNB70SAY</td>\n",
       "      <td>AURUBIS BUFFALO INC</td>\n",
       "      <td>331529</td>\n",
       "      <td>0.459993</td>\n",
       "      <td>0.00000</td>\n",
       "      <td>67</td>\n",
       "      <td>0.477160</td>\n",
       "      <td>AURUBIS BUFFALO INC</td>\n",
       "      <td>['COPPER', 'DIOXIN AND DIOXIN-LIKE COMPOUNDS',...</td>\n",
       "      <td>4</td>\n",
       "    </tr>\n",
       "  </tbody>\n",
       "</table>\n",
       "</div>"
      ],
      "text/plain": [
       "    tri_facility_id         facility_name  primary_naics_x  n_5_2_stack_air  \\\n",
       "11  13148SCPTR11LAM  SCEPTER NEW YORK INC           331314         0.379998   \n",
       "16  13662LMNMCPARKA             ALCOA INC           331313         0.940007   \n",
       "17  13126LCNRLLAKER          NOVELIS CORP           331315         1.749988   \n",
       "18  14207MRCNB70SAY   AURUBIS BUFFALO INC           331529         0.459993   \n",
       "\n",
       "    n_5_1_fugitive_air  Degrees  Clustering Coefficient  parent_company_name  \\\n",
       "11             0.00000      148                0.366612          SCEPTER INC   \n",
       "16             0.00000      193                0.332038            ALCOA INC   \n",
       "17             1.89999      133                0.400889         NOVELIS CORP   \n",
       "18             0.00000       67                0.477160  AURUBIS BUFFALO INC   \n",
       "\n",
       "                                            Chemicals  Community  \n",
       "11  ['AMMONIA', 'COPPER', 'DIOXIN AND DIOXIN-LIKE ...          4  \n",
       "16  ['BENZO(G,H,I)PERYLENE', 'CARBONYL SULFIDE', '...          4  \n",
       "17  ['ALUMINUM (FUME OR DUST)', 'CHLORINE', 'CHROM...          4  \n",
       "18  ['COPPER', 'DIOXIN AND DIOXIN-LIKE COMPOUNDS',...          4  "
      ]
     },
     "execution_count": 14,
     "metadata": {},
     "output_type": "execute_result"
    }
   ],
   "source": [
    "# Reporting dioxin in each community\n",
    "\n",
    "dioxinMerge_community = dioxinMerge[dioxinMerge['Community'] == 4]  # Toggle between communities\n",
    "\n",
    "dioxinMerge_community"
   ]
  },
  {
   "cell_type": "code",
   "execution_count": 15,
   "metadata": {
    "collapsed": false,
    "scrolled": true
   },
   "outputs": [],
   "source": [
    "# Reporting dioxin in each community\n",
    "# dioxinMerge.groupby(['Community','primary_naics_x']).agg(['count'])"
   ]
  },
  {
   "cell_type": "code",
   "execution_count": 16,
   "metadata": {
    "collapsed": false,
    "scrolled": true
   },
   "outputs": [
    {
     "data": {
      "text/html": [
       "<div>\n",
       "<table border=\"1\" class=\"dataframe\">\n",
       "  <thead>\n",
       "    <tr style=\"text-align: right;\">\n",
       "      <th></th>\n",
       "      <th>Unnamed: 0</th>\n",
       "      <th>Facility</th>\n",
       "      <th>Degrees</th>\n",
       "      <th>Clustering Coefficient</th>\n",
       "      <th>Betweeness</th>\n",
       "      <th>Closeness</th>\n",
       "      <th>Eigenvector</th>\n",
       "      <th>tri_facility_id</th>\n",
       "      <th>primary_naics_x</th>\n",
       "      <th>parent_company_name</th>\n",
       "      <th>Chemicals</th>\n",
       "      <th>Community</th>\n",
       "      <th>facility_name</th>\n",
       "      <th>primary_naics_y</th>\n",
       "      <th>n_5_2_stack_air</th>\n",
       "      <th>n_5_1_fugitive_air</th>\n",
       "    </tr>\n",
       "  </thead>\n",
       "  <tbody>\n",
       "    <tr>\n",
       "      <th>12</th>\n",
       "      <td>12</td>\n",
       "      <td>ROCKTENN - SOLVAY LLC</td>\n",
       "      <td>152</td>\n",
       "      <td>0.450680</td>\n",
       "      <td>0.028065</td>\n",
       "      <td>0.618487</td>\n",
       "      <td>0.034156</td>\n",
       "      <td>13209SLVYP53IND</td>\n",
       "      <td>322130</td>\n",
       "      <td>ROCK-TENN CO</td>\n",
       "      <td>['HYDROGEN SULFIDE', 'LEAD', 'MERCURY', 'METHA...</td>\n",
       "      <td>4</td>\n",
       "      <td>NaN</td>\n",
       "      <td>NaN</td>\n",
       "      <td>NaN</td>\n",
       "      <td>NaN</td>\n",
       "    </tr>\n",
       "    <tr>\n",
       "      <th>13</th>\n",
       "      <td>13</td>\n",
       "      <td>CASTLE OIL PORT MORRIS INC</td>\n",
       "      <td>149</td>\n",
       "      <td>0.475694</td>\n",
       "      <td>0.025991</td>\n",
       "      <td>0.617450</td>\n",
       "      <td>0.047642</td>\n",
       "      <td>10454CSTLL939E1</td>\n",
       "      <td>424710</td>\n",
       "      <td>CASTLE OIL CO</td>\n",
       "      <td>['LEAD', 'NAPHTHALENE', 'POLYCYCLIC AROMATIC C...</td>\n",
       "      <td>4</td>\n",
       "      <td>NaN</td>\n",
       "      <td>NaN</td>\n",
       "      <td>NaN</td>\n",
       "      <td>NaN</td>\n",
       "    </tr>\n",
       "    <tr>\n",
       "      <th>22</th>\n",
       "      <td>22</td>\n",
       "      <td>GM COMPONENTS HOLDINGS LLC</td>\n",
       "      <td>129</td>\n",
       "      <td>0.423934</td>\n",
       "      <td>0.030602</td>\n",
       "      <td>0.599349</td>\n",
       "      <td>0.034323</td>\n",
       "      <td>14094GNRLM200UP</td>\n",
       "      <td>336390</td>\n",
       "      <td>GENERAL MOTORS LLC</td>\n",
       "      <td>['1,2,4-TRIMETHYLBENZENE', 'CHROMIUM', 'COPPER...</td>\n",
       "      <td>4</td>\n",
       "      <td>NaN</td>\n",
       "      <td>NaN</td>\n",
       "      <td>NaN</td>\n",
       "      <td>NaN</td>\n",
       "    </tr>\n",
       "  </tbody>\n",
       "</table>\n",
       "</div>"
      ],
      "text/plain": [
       "    Unnamed: 0                    Facility  Degrees  Clustering Coefficient  \\\n",
       "12          12       ROCKTENN - SOLVAY LLC      152                0.450680   \n",
       "13          13  CASTLE OIL PORT MORRIS INC      149                0.475694   \n",
       "22          22  GM COMPONENTS HOLDINGS LLC      129                0.423934   \n",
       "\n",
       "    Betweeness  Closeness  Eigenvector  tri_facility_id primary_naics_x  \\\n",
       "12    0.028065   0.618487     0.034156  13209SLVYP53IND          322130   \n",
       "13    0.025991   0.617450     0.047642  10454CSTLL939E1          424710   \n",
       "22    0.030602   0.599349     0.034323  14094GNRLM200UP          336390   \n",
       "\n",
       "   parent_company_name                                          Chemicals  \\\n",
       "12        ROCK-TENN CO  ['HYDROGEN SULFIDE', 'LEAD', 'MERCURY', 'METHA...   \n",
       "13       CASTLE OIL CO  ['LEAD', 'NAPHTHALENE', 'POLYCYCLIC AROMATIC C...   \n",
       "22  GENERAL MOTORS LLC  ['1,2,4-TRIMETHYLBENZENE', 'CHROMIUM', 'COPPER...   \n",
       "\n",
       "    Community facility_name  primary_naics_y  n_5_2_stack_air  \\\n",
       "12          4           NaN              NaN              NaN   \n",
       "13          4           NaN              NaN              NaN   \n",
       "22          4           NaN              NaN              NaN   \n",
       "\n",
       "    n_5_1_fugitive_air  \n",
       "12                 NaN  \n",
       "13                 NaN  \n",
       "22                 NaN  "
      ]
     },
     "execution_count": 16,
     "metadata": {},
     "output_type": "execute_result"
    }
   ],
   "source": [
    "# Not reporting dioxin\n",
    "\n",
    "dioxins_2013_trim = dioxins_2013[['tri_facility_id','facility_name','primary_naics','n_5_2_stack_air','n_5_1_fugitive_air']]\n",
    "dioxinJoinRight = allFacilities.merge(dioxins_2013_trim, on='tri_facility_id',how='left')\n",
    "dioxinNULLS = dioxinJoinRight[dioxinJoinRight.isnull().any(axis=1)]\n",
    "\n",
    "dioxinNULLS_community = dioxinNULLS[dioxinNULLS['Community'] == 4]\n",
    "\n",
    "dioxinNULLS_community.head(3)\n",
    "#len(dioxinNULLS) "
   ]
  },
  {
   "cell_type": "code",
   "execution_count": 17,
   "metadata": {
    "collapsed": false
   },
   "outputs": [
    {
     "data": {
      "text/html": [
       "<div>\n",
       "<table border=\"1\" class=\"dataframe\">\n",
       "  <thead>\n",
       "    <tr style=\"text-align: right;\">\n",
       "      <th></th>\n",
       "      <th>tri_facility_id_x</th>\n",
       "      <th>facility_name_x</th>\n",
       "      <th>primary_naics_x</th>\n",
       "      <th>n_5_2_stack_air_x</th>\n",
       "      <th>n_5_1_fugitive_air_x</th>\n",
       "      <th>Degrees_x</th>\n",
       "      <th>Clustering Coefficient_x</th>\n",
       "      <th>parent_company_name_x</th>\n",
       "      <th>Chemicals_x</th>\n",
       "      <th>Community_x</th>\n",
       "      <th>...</th>\n",
       "      <th>Closeness</th>\n",
       "      <th>Eigenvector</th>\n",
       "      <th>tri_facility_id_y</th>\n",
       "      <th>parent_company_name_y</th>\n",
       "      <th>Chemicals_y</th>\n",
       "      <th>Community_y</th>\n",
       "      <th>facility_name_y</th>\n",
       "      <th>primary_naics_y</th>\n",
       "      <th>n_5_2_stack_air_y</th>\n",
       "      <th>n_5_1_fugitive_air_y</th>\n",
       "    </tr>\n",
       "  </thead>\n",
       "  <tbody>\n",
       "  </tbody>\n",
       "</table>\n",
       "<p>0 rows × 25 columns</p>\n",
       "</div>"
      ],
      "text/plain": [
       "Empty DataFrame\n",
       "Columns: [tri_facility_id_x, facility_name_x, primary_naics_x, n_5_2_stack_air_x, n_5_1_fugitive_air_x, Degrees_x, Clustering Coefficient_x, parent_company_name_x, Chemicals_x, Community_x, Unnamed: 0, Facility, Degrees_y, Clustering Coefficient_y, Betweeness, Closeness, Eigenvector, tri_facility_id_y, parent_company_name_y, Chemicals_y, Community_y, facility_name_y, primary_naics_y, n_5_2_stack_air_y, n_5_1_fugitive_air_y]\n",
       "Index: []\n",
       "\n",
       "[0 rows x 25 columns]"
      ]
     },
     "execution_count": 17,
     "metadata": {},
     "output_type": "execute_result"
    }
   ],
   "source": [
    "# List of dioxin non-reporters in each community that have a counter part (same NAICS code) reporting in community\n",
    "\n",
    "#dioxinNULLS['primary_naics_x'].isin(dioxinMerge['primary_naics_x']) \n",
    "dioxinMerge_community.merge(dioxinNULLS_community, on='primary_naics_x')"
   ]
  },
  {
   "cell_type": "code",
   "execution_count": 20,
   "metadata": {
    "collapsed": true
   },
   "outputs": [],
   "source": [
    "def dioxinPickCommunity(c):\n",
    "    dioxinMerge_community = dioxinMerge[dioxinMerge['Community'] == c]  # Toggle between communities\n",
    "    dioxinNULLS_community = dioxinNULLS[dioxinNULLS['Community'] == c]\n",
    "    return dioxinMerge_community.merge(dioxinNULLS_community, on='primary_naics_x')"
   ]
  },
  {
   "cell_type": "code",
   "execution_count": 23,
   "metadata": {
    "collapsed": false
   },
   "outputs": [
    {
     "data": {
      "text/html": [
       "<div>\n",
       "<table border=\"1\" class=\"dataframe\">\n",
       "  <thead>\n",
       "    <tr style=\"text-align: right;\">\n",
       "      <th></th>\n",
       "      <th>tri_facility_id_x</th>\n",
       "      <th>facility_name_x</th>\n",
       "      <th>primary_naics_x</th>\n",
       "      <th>n_5_2_stack_air_x</th>\n",
       "      <th>n_5_1_fugitive_air_x</th>\n",
       "      <th>Degrees_x</th>\n",
       "      <th>Clustering Coefficient_x</th>\n",
       "      <th>parent_company_name_x</th>\n",
       "      <th>Chemicals_x</th>\n",
       "      <th>Community_x</th>\n",
       "      <th>...</th>\n",
       "      <th>Closeness</th>\n",
       "      <th>Eigenvector</th>\n",
       "      <th>tri_facility_id_y</th>\n",
       "      <th>parent_company_name_y</th>\n",
       "      <th>Chemicals_y</th>\n",
       "      <th>Community_y</th>\n",
       "      <th>facility_name_y</th>\n",
       "      <th>primary_naics_y</th>\n",
       "      <th>n_5_2_stack_air_y</th>\n",
       "      <th>n_5_1_fugitive_air_y</th>\n",
       "    </tr>\n",
       "  </thead>\n",
       "  <tbody>\n",
       "  </tbody>\n",
       "</table>\n",
       "<p>0 rows × 25 columns</p>\n",
       "</div>"
      ],
      "text/plain": [
       "Empty DataFrame\n",
       "Columns: [tri_facility_id_x, facility_name_x, primary_naics_x, n_5_2_stack_air_x, n_5_1_fugitive_air_x, Degrees_x, Clustering Coefficient_x, parent_company_name_x, Chemicals_x, Community_x, Unnamed: 0, Facility, Degrees_y, Clustering Coefficient_y, Betweeness, Closeness, Eigenvector, tri_facility_id_y, parent_company_name_y, Chemicals_y, Community_y, facility_name_y, primary_naics_y, n_5_2_stack_air_y, n_5_1_fugitive_air_y]\n",
       "Index: []\n",
       "\n",
       "[0 rows x 25 columns]"
      ]
     },
     "execution_count": 23,
     "metadata": {},
     "output_type": "execute_result"
    }
   ],
   "source": [
    "dioxinPickCommunity(1)"
   ]
  },
  {
   "cell_type": "code",
   "execution_count": null,
   "metadata": {
    "collapsed": true
   },
   "outputs": [],
   "source": []
  }
 ],
 "metadata": {
  "kernelspec": {
   "display_name": "Python 2",
   "language": "python",
   "name": "python2"
  },
  "language_info": {
   "codemirror_mode": {
    "name": "ipython",
    "version": 2
   },
   "file_extension": ".py",
   "mimetype": "text/x-python",
   "name": "python",
   "nbconvert_exporter": "python",
   "pygments_lexer": "ipython2",
   "version": "2.7.11"
  }
 },
 "nbformat": 4,
 "nbformat_minor": 0
}
