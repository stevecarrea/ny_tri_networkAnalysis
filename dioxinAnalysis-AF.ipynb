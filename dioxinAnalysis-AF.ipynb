{
 "cells": [
  {
   "cell_type": "code",
   "execution_count": 79,
   "metadata": {
    "collapsed": false
   },
   "outputs": [
    {
     "name": "stdout",
     "output_type": "stream",
     "text": [
      "Populating the interactive namespace from numpy and matplotlib\n"
     ]
    }
   ],
   "source": [
    "import pandas as pd\n",
    "import matplotlib.pyplot as plt\n",
    "import seaborn as sns\n",
    "%pylab inline"
   ]
  },
  {
   "cell_type": "code",
   "execution_count": 80,
   "metadata": {
    "collapsed": true
   },
   "outputs": [],
   "source": [
    "allFacilities = pd.read_csv(\"output/describeNetwork.csv\", dtype={'primary_naics': object})"
   ]
  },
  {
   "cell_type": "code",
   "execution_count": 81,
   "metadata": {
    "collapsed": false
   },
   "outputs": [
    {
     "data": {
      "text/plain": [
       "20"
      ]
     },
     "execution_count": 81,
     "metadata": {},
     "output_type": "execute_result"
    }
   ],
   "source": [
    "# Dioxin reporters from 2013 TRI \n",
    "tri2013 = pd.read_csv('data/toxic-release-inventory.ny.2013.geoid.csv')\n",
    "dioxins_2013 = tri2013[tri2013['chemical']=='DIOXIN AND DIOXIN-LIKE COMPOUNDS']\n",
    "len(dioxins_2013) # Number of dioxin reporting facilities"
   ]
  },
  {
   "cell_type": "code",
   "execution_count": 107,
   "metadata": {
    "collapsed": true
   },
   "outputs": [],
   "source": [
    "allChems = pd.unique(tri2013['chemical'].values.ravel())"
   ]
  },
  {
   "cell_type": "code",
   "execution_count": 82,
   "metadata": {
    "collapsed": true
   },
   "outputs": [],
   "source": [
    "chem = 'DIOXIN AND DIOXIN-LIKE COMPOUNDS'"
   ]
  },
  {
   "cell_type": "code",
   "execution_count": 83,
   "metadata": {
    "collapsed": false
   },
   "outputs": [],
   "source": [
    "allFacilities = allFacilities.drop(['Unnamed: 0', 'Facility','Betweeness','Closeness','Eigenvector'], axis=1)\n",
    "withChem = allFacilities[allFacilities['Chemicals'].str.contains(chem)]\n",
    "withoutChem = allFacilities[~allFacilities['Chemicals'].str.contains(chem)]"
   ]
  },
  {
   "cell_type": "code",
   "execution_count": 75,
   "metadata": {
    "collapsed": false
   },
   "outputs": [
    {
     "name": "stdout",
     "output_type": "stream",
     "text": [
      "Num of total facilities: 387\n",
      "Num of dioxin-emitting facilities: 19\n",
      "Num of non dioxin-emitting facilities: 368\n"
     ]
    }
   ],
   "source": [
    "print 'Num of total facilities:', len(allFacilities)\n",
    "print 'Num of dioxin-emitting facilities:', len(withDioxins)\n",
    "print 'Num of non dioxin-emitting facilities:', len(withoutDioxins)"
   ]
  },
  {
   "cell_type": "code",
   "execution_count": 74,
   "metadata": {
    "collapsed": false,
    "scrolled": true
   },
   "outputs": [],
   "source": [
    "# allFacilities[allFacilities['Chemicals'].str.contains('DIOXIN AND DIOXIN-LIKE COMPOUNDS')]"
   ]
  },
  {
   "cell_type": "code",
   "execution_count": 102,
   "metadata": {
    "collapsed": true
   },
   "outputs": [],
   "source": [
    "def chemPickCommunity(c):\n",
    "    withChemComm = withChem[withDioxins['Community'] == c]\n",
    "    chemNaics = pd.unique(withChemComm['primary_naics'].values.ravel())\n",
    "    withoutChemComm = withoutChem[withoutChem['Community'] == c]\n",
    "#     print chemNaics\n",
    "    return withoutChemComm[withoutChemComm['primary_naics'].isin(chemNaics)]\n",
    "#     return withoutChemComm.merge(withChemComm, on='primary_naics', how='inner')"
   ]
  },
  {
   "cell_type": "code",
   "execution_count": 106,
   "metadata": {
    "collapsed": false
   },
   "outputs": [
    {
     "name": "stdout",
     "output_type": "stream",
     "text": [
      "     Degrees  Clustering Coefficient  tri_facility_id primary_naics  \\\n",
      "36       120                0.548179  14302DPNTNBUFFA        325180   \n",
      "57        91                0.547253  12143BLCRCROUTE        327310   \n",
      "66        84                0.570281  1461WRCHST681RI        331492   \n",
      "79        78                0.642691  14150FMCCR37SAW        325180   \n",
      "96        75                0.650811  14150CRHNT3500R        221112   \n",
      "159       68                0.730904  14048NGRMH106PO        221112   \n",
      "232       51                0.697255  14210PVSCH55LEE        325180   \n",
      "248       41                0.580488  12801MSGLD21ROG        331492   \n",
      "250       40                0.835897  13209GNRLCWILLI        325180   \n",
      "259       35                1.000000  11980CTHNS5ZRNB        221112   \n",
      "260       35                1.000000  12822NDCKC24WHI        221112   \n",
      "261       35                1.000000  14150CRBRN168CR        325180   \n",
      "262       35                1.000000  14760NDCKL140MO        221112   \n",
      "267       35                1.000000  12077NGRMHRTE14        221112   \n",
      "271       35                1.000000  11205BRKLYBROOK        221112   \n",
      "272       35                1.000000  11547GLNWDSHORE        221112   \n",
      "273       35                1.000000  11105NWYRK31032        221112   \n",
      "274       34                0.802139  14303LNCHM2400B        325180   \n",
      "275       34                0.802139  12188DGSSCSCHOO        325180   \n",
      "281       31                0.731183  13601KNWLT213FA        322121   \n",
      "285       28                1.000000  14589THTCH4135R        325180   \n",
      "295       28                1.000000  14214WLLMS2978M        331492   \n",
      "351       13                1.000000  14094VNCHL555WE        325180   \n",
      "356       12                0.909091  14094LLGHN695OH        331492   \n",
      "\n",
      "                 parent_company_name  \\\n",
      "36       E I DU PONT DE NEMOURS & CO   \n",
      "57                  LAFARGE N.A. INC   \n",
      "66                               NaN   \n",
      "79                    PEROXYCHEM LLC   \n",
      "96                    NRG ENERGY INC   \n",
      "159                   NRG ENERGY INC   \n",
      "232                PVS CHEMICALS INC   \n",
      "248              AMES GOLDSMITH CORP   \n",
      "250          CHEMTRADE SOLUTIONS LLC   \n",
      "259            CAITHNESS LONG ISLAND   \n",
      "260                    INDECK ENERGY   \n",
      "261                SAINT-GOBAIN CORP   \n",
      "262                    INDECK ENERGY   \n",
      "267  PUBLIC SERVICE ENTERPRISE GROUP   \n",
      "271                      EIF BNY LLC   \n",
      "272                NATIONAL GRID USA   \n",
      "273         NEW YORK POWER AUTHORITY   \n",
      "274                        OLIN CORP   \n",
      "275                EVONIK INDUSTRIES   \n",
      "281        KNOWLTON TECHNOLOGIES LLC   \n",
      "285                      THATCHER CO   \n",
      "295       BRUSH ENGINEERED MATERIALS   \n",
      "351                              NaN   \n",
      "356       ALLEGHENY TECHNOLOGIES INC   \n",
      "\n",
      "                                             Chemicals  Community  \n",
      "36   ['BARIUM COMPOUNDS', 'CHLORINE', 'LEAD COMPOUN...          0  \n",
      "57   ['AMMONIA', 'HYDROCHLORIC ACID (1995 AND AFTER...          0  \n",
      "66   ['LEAD COMPOUNDS', 'NITRIC ACID', 'SILVER COMP...          0  \n",
      "79     ['AMMONIA', 'LEAD COMPOUNDS', 'PERACETIC ACID']          0  \n",
      "96   ['BARIUM COMPOUNDS', 'HYDROCHLORIC ACID (1995 ...          0  \n",
      "159  ['BARIUM COMPOUNDS', 'HYDROCHLORIC ACID (1995 ...          0  \n",
      "232  ['AMMONIA', 'SULFURIC ACID (1994 AND AFTER ACI...          0  \n",
      "248          ['FORMALDEHYDE', 'NITRIC ACID', 'SILVER']          0  \n",
      "250  ['AMMONIA', 'NITRATE COMPOUNDS', 'SODIUM NITRI...          0  \n",
      "259                                        ['AMMONIA']          0  \n",
      "260                                        ['AMMONIA']          0  \n",
      "261                                        ['AMMONIA']          0  \n",
      "262                                        ['AMMONIA']          0  \n",
      "267                                        ['AMMONIA']          0  \n",
      "271                                        ['AMMONIA']          0  \n",
      "272                                        ['AMMONIA']          0  \n",
      "273                                        ['AMMONIA']          0  \n",
      "274  ['CHLORINE', 'HYDROCHLORIC ACID (1995 AND AFTE...          0  \n",
      "275  ['CHLORINE', 'HYDROCHLORIC ACID (1995 AND AFTE...          0  \n",
      "281             ['FORMALDEHYDE', 'METHANOL', 'PHENOL']          0  \n",
      "285                                    ['NITRIC ACID']          0  \n",
      "295                                    ['NITRIC ACID']          0  \n",
      "351                                       ['CHLORINE']          0  \n",
      "356  ['CHROMIUM COMPOUNDS(EXCEPT CHROMITE ORE MINED...          0  \n",
      "     Degrees  Clustering Coefficient  tri_facility_id primary_naics  \\\n",
      "199       63                0.854583  11232GWNSG29THS        221112   \n",
      "201       63                0.854583  11232NRRWS53RDS        221112   \n",
      "241       44                0.913319  11742RCHRD607UN        221112   \n",
      "\n",
      "          parent_company_name  \\\n",
      "199    US POWER GENERATING CO   \n",
      "201    US POWER GENERATING CO   \n",
      "241  NEW YORK POWER AUTHORITY   \n",
      "\n",
      "                                             Chemicals  Community  \n",
      "199  ['1,2,4-TRIMETHYLBENZENE', 'N-HEXANE', 'NAPHTH...          1  \n",
      "201  ['1,2,4-TRIMETHYLBENZENE', 'N-HEXANE', 'NAPHTH...          1  \n",
      "241  ['1,2,4-TRIMETHYLBENZENE', 'N-HEXANE', 'NAPHTH...          1  \n",
      "Empty DataFrame\n",
      "Columns: [Degrees, Clustering Coefficient, tri_facility_id, primary_naics, parent_company_name, Chemicals, Community]\n",
      "Index: []\n",
      "     Degrees  Clustering Coefficient  tri_facility_id primary_naics  \\\n",
      "47        99                0.644403  10009CNSLD801E1        221112   \n",
      "48        99                0.644403  11101CNSLD3854V        221112   \n",
      "49        99                0.644403  11777PRTJFBEECH        221112   \n",
      "58        89                0.720889  13126NGRMH261WA        221112   \n",
      "60        88                0.763845  11105STRGN18012        221112   \n",
      "106       70                1.000000  10993BWLNPSAMSO        221112   \n",
      "110       70                1.000000  13615FBRMRBRIDG        322121   \n",
      "118       70                1.000000  11558FBRRTMCCAR        221112   \n",
      "130       70                1.000000  11691BYSWT1425B        221112   \n",
      "\n",
      "        parent_company_name  \\\n",
      "47                      NaN   \n",
      "48          TRANSCANADA LTD   \n",
      "49        NATIONAL GRID USA   \n",
      "58           NRG ENERGY INC   \n",
      "60   US POWER GENERATING CO   \n",
      "106          NRG ENERGY INC   \n",
      "110      FIBERMARK N.A. INC   \n",
      "118       NATIONAL GRID USA   \n",
      "130      NEXTERA ENERGY INC   \n",
      "\n",
      "                                             Chemicals  Community  \n",
      "47   ['AMMONIA', 'BENZO(G,H,I)PERYLENE', 'POLYCYCLI...          3  \n",
      "48   ['AMMONIA', 'BENZO(G,H,I)PERYLENE', 'POLYCYCLI...          3  \n",
      "49   ['AMMONIA', 'BENZO(G,H,I)PERYLENE', 'POLYCYCLI...          3  \n",
      "58   ['BENZO(G,H,I)PERYLENE', 'POLYCYCLIC AROMATIC ...          3  \n",
      "60   ['BENZO(G,H,I)PERYLENE', 'NAPHTHALENE', 'POLYC...          3  \n",
      "106  ['BENZO(G,H,I)PERYLENE', 'POLYCYCLIC AROMATIC ...          3  \n",
      "110                  ['POLYCYCLIC AROMATIC COMPOUNDS']          3  \n",
      "118                  ['POLYCYCLIC AROMATIC COMPOUNDS']          3  \n",
      "130                  ['POLYCYCLIC AROMATIC COMPOUNDS']          3  \n",
      "     Degrees  Clustering Coefficient  tri_facility_id primary_naics  \\\n",
      "62        88                0.691223  13206RTHBR6223T        331314   \n",
      "304       27                1.000000  14094MLWRD500MI        331313   \n",
      "\n",
      "    parent_company_name                                      Chemicals  \\\n",
      "62         METALICO INC  ['ALUMINUM (FUME OR DUST)', 'COPPER', 'LEAD']   \n",
      "304                 NaN     ['COPPER', 'PHOSPHORUS (YELLOW OR WHITE)']   \n",
      "\n",
      "     Community  \n",
      "62           4  \n",
      "304          4  \n",
      "Empty DataFrame\n",
      "Columns: [Degrees, Clustering Coefficient, tri_facility_id, primary_naics, parent_company_name, Chemicals, Community]\n",
      "Index: []\n"
     ]
    }
   ],
   "source": [
    "for i in range(6):\n",
    "#     print len(chemPickCommunity(i))\n",
    "    print chemPickCommunity(i)"
   ]
  },
  {
   "cell_type": "code",
   "execution_count": null,
   "metadata": {
    "collapsed": true
   },
   "outputs": [],
   "source": []
  }
 ],
 "metadata": {
  "kernelspec": {
   "display_name": "Python 2",
   "language": "python",
   "name": "python2"
  },
  "language_info": {
   "codemirror_mode": {
    "name": "ipython",
    "version": 2
   },
   "file_extension": ".py",
   "mimetype": "text/x-python",
   "name": "python",
   "nbconvert_exporter": "python",
   "pygments_lexer": "ipython2",
   "version": "2.7.11"
  }
 },
 "nbformat": 4,
 "nbformat_minor": 0
}
