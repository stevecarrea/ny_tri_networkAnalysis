{
 "cells": [
  {
   "cell_type": "code",
   "execution_count": 177,
   "metadata": {
    "collapsed": false
   },
   "outputs": [
    {
     "name": "stdout",
     "output_type": "stream",
     "text": [
      "Populating the interactive namespace from numpy and matplotlib\n"
     ]
    }
   ],
   "source": [
    "import pandas as pd\n",
    "import matplotlib.pyplot as plt\n",
    "import seaborn as sns\n",
    "%pylab inline"
   ]
  },
  {
   "cell_type": "code",
   "execution_count": 178,
   "metadata": {
    "collapsed": true
   },
   "outputs": [],
   "source": [
    "allFacilities = pd.read_csv(\"output/describeNetwork.csv\", dtype={'primary_naics': object})\n",
    "naics = pd.read_csv(\"data/naics.csv\", dtype={'2012 NAICS US Code': object})"
   ]
  },
  {
   "cell_type": "code",
   "execution_count": 179,
   "metadata": {
    "collapsed": false
   },
   "outputs": [],
   "source": [
    "# Dioxin reporters from 2013 TRI \n",
    "tri2013 = pd.read_csv('data/toxic-release-inventory.ny.2013.geoid.csv')\n",
    "# dioxins_2013 = tri2013[tri2013['chemical']=='DIOXIN AND DIOXIN-LIKE COMPOUNDS']\n",
    "# len(dioxins_2013) # Number of dioxin reporting facilities"
   ]
  },
  {
   "cell_type": "code",
   "execution_count": 180,
   "metadata": {
    "collapsed": false
   },
   "outputs": [
    {
     "data": {
      "text/plain": [
       "181"
      ]
     },
     "execution_count": 180,
     "metadata": {},
     "output_type": "execute_result"
    }
   ],
   "source": [
    "allChems = pd.unique(tri2013['chemical'].values.ravel())\n",
    "len(allChems)"
   ]
  },
  {
   "cell_type": "code",
   "execution_count": 181,
   "metadata": {
    "collapsed": false
   },
   "outputs": [
    {
     "data": {
      "text/plain": [
       "[0, 1, 2, 3, 4, 5]"
      ]
     },
     "execution_count": 181,
     "metadata": {},
     "output_type": "execute_result"
    }
   ],
   "source": [
    "allComms = sorted(pd.unique(allFacilities['Community'].values.ravel()))\n",
    "allComms"
   ]
  },
  {
   "cell_type": "code",
   "execution_count": 182,
   "metadata": {
    "collapsed": true
   },
   "outputs": [],
   "source": [
    "# chem = 'DIOXIN AND DIOXIN-LIKE COMPOUNDS'"
   ]
  },
  {
   "cell_type": "code",
   "execution_count": 183,
   "metadata": {
    "collapsed": false
   },
   "outputs": [],
   "source": [
    "naics = naics.drop(naics.columns[[0,3,4]], axis=1)\n",
    "naics.columns = [\"naics\", \"industry\"]\n",
    "allFacilities = allFacilities.merge(naics, left_on=[\"primary_naics\"], right_on=\"naics\", how=\"left\")\n",
    "# allFacilities = allFacilities.drop(\"naics\", axis=1)"
   ]
  },
  {
   "cell_type": "code",
   "execution_count": 184,
   "metadata": {
    "collapsed": false
   },
   "outputs": [],
   "source": [
    "allFacilities = allFacilities.drop(['Unnamed: 0', 'naics', 'Betweeness','Closeness','Eigenvector'], axis=1)"
   ]
  },
  {
   "cell_type": "code",
   "execution_count": 185,
   "metadata": {
    "collapsed": false
   },
   "outputs": [],
   "source": [
    "# print 'Num of total facilities:', len(allFacilities)\n",
    "# print 'Num of dioxin-emitting facilities:', len(withChem)\n",
    "# print 'Num of non dioxin-emitting facilities:', len(withoutChem)"
   ]
  },
  {
   "cell_type": "code",
   "execution_count": 186,
   "metadata": {
    "collapsed": false,
    "scrolled": true
   },
   "outputs": [],
   "source": [
    "# allFacilities[allFacilities['Chemicals'].str.contains('DIOXIN AND DIOXIN-LIKE COMPOUNDS')]"
   ]
  },
  {
   "cell_type": "code",
   "execution_count": 195,
   "metadata": {
    "collapsed": true
   },
   "outputs": [],
   "source": [
    "cols = ['nonReportChem', 'Community', 'Facility', 'parent_company_name', 'industry']"
   ]
  },
  {
   "cell_type": "code",
   "execution_count": 196,
   "metadata": {
    "collapsed": true
   },
   "outputs": [],
   "source": [
    "def chemPickCommunity(comm, chem):\n",
    "    withChem = allFacilities[allFacilities['Chemicals'].str.contains(chem)]\n",
    "    withoutChem = allFacilities[~allFacilities['Chemicals'].str.contains(chem)]\n",
    "    withChemComm = withChem[withChem['Community'] == comm]\n",
    "    withoutChemComm = withoutChem[withoutChem['Community'] == comm]\n",
    "    chemNaics = pd.unique(withChemComm['primary_naics'].values.ravel())\n",
    "    nonReporters = withoutChemComm[withoutChemComm['primary_naics'].isin(chemNaics)]\n",
    "    nonReporters['nonReportChem'] = chem\n",
    "    return nonReporters[cols]\n",
    "#     return withoutChemComm.merge(withChemComm, on='primary_naics', how='inner')"
   ]
  },
  {
   "cell_type": "code",
   "execution_count": 197,
   "metadata": {
    "collapsed": false
   },
   "outputs": [],
   "source": [
    "# chemPickCommunity(0).head()"
   ]
  },
  {
   "cell_type": "code",
   "execution_count": 211,
   "metadata": {
    "collapsed": true
   },
   "outputs": [],
   "source": [
    "allNonRepList = []"
   ]
  },
  {
   "cell_type": "code",
   "execution_count": 212,
   "metadata": {
    "collapsed": false
   },
   "outputs": [
    {
     "name": "stderr",
     "output_type": "stream",
     "text": [
      "/Users/afair/anaconda/lib/python2.7/site-packages/IPython/kernel/__main__.py:8: SettingWithCopyWarning: \n",
      "A value is trying to be set on a copy of a slice from a DataFrame.\n",
      "Try using .loc[row_indexer,col_indexer] = value instead\n",
      "\n",
      "See the caveats in the documentation: http://pandas.pydata.org/pandas-docs/stable/indexing.html#indexing-view-versus-copy\n",
      "/Users/afair/anaconda/lib/python2.7/site-packages/IPython/kernel/__main__.py:2: UserWarning: This pattern has match groups. To actually get the groups, use str.extract.\n",
      "  from IPython.kernel.zmq import kernelapp as app\n",
      "/Users/afair/anaconda/lib/python2.7/site-packages/IPython/kernel/__main__.py:3: UserWarning: This pattern has match groups. To actually get the groups, use str.extract.\n",
      "  app.launch_new_instance()\n"
     ]
    }
   ],
   "source": [
    "for i in allComms:\n",
    "    for j in allChems:\n",
    "#     print len(chemPickCommunity(i))\n",
    "#         currNonReporters = chemPickCommunity(i,j)\n",
    "#         allNonReporters.append(currNonReporters)\n",
    "#         print currNonReporters\n",
    "        allNonRepList.append(chemPickCommunity(i,j))"
   ]
  },
  {
   "cell_type": "code",
   "execution_count": 213,
   "metadata": {
    "collapsed": false
   },
   "outputs": [],
   "source": [
    "final = pd.concat(i for i in allNonRepList)"
   ]
  },
  {
   "cell_type": "code",
   "execution_count": 214,
   "metadata": {
    "collapsed": true
   },
   "outputs": [],
   "source": [
    "final.to_csv('nonReporters.csv')"
   ]
  },
  {
   "cell_type": "code",
   "execution_count": null,
   "metadata": {
    "collapsed": true
   },
   "outputs": [],
   "source": []
  }
 ],
 "metadata": {
  "kernelspec": {
   "display_name": "Python 2",
   "language": "python",
   "name": "python2"
  },
  "language_info": {
   "codemirror_mode": {
    "name": "ipython",
    "version": 2
   },
   "file_extension": ".py",
   "mimetype": "text/x-python",
   "name": "python",
   "nbconvert_exporter": "python",
   "pygments_lexer": "ipython2",
   "version": "2.7.11"
  }
 },
 "nbformat": 4,
 "nbformat_minor": 0
}
